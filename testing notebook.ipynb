{
 "cells": [
  {
   "cell_type": "markdown",
   "metadata": {},
   "source": [
    "# Data preprocessing and model building"
   ]
  },
  {
   "cell_type": "code",
   "execution_count": 1,
   "metadata": {},
   "outputs": [
    {
     "name": "stderr",
     "output_type": "stream",
     "text": [
      "Using TensorFlow backend.\n"
     ]
    }
   ],
   "source": [
    "from keras.models import Sequential\n",
    "from keras.layers import Dense\n",
    "from keras.layers import Convolution2D\n",
    "from keras.layers import MaxPooling2D\n",
    "from keras.layers import Flatten"
   ]
  },
  {
   "cell_type": "code",
   "execution_count": 2,
   "metadata": {},
   "outputs": [],
   "source": [
    "#Intialize the model\n",
    "model=Sequential()"
   ]
  },
  {
   "cell_type": "code",
   "execution_count": 3,
   "metadata": {},
   "outputs": [],
   "source": [
    "# Add Convolution Layer\n",
    "model.add(Convolution2D(32,(3,3),input_shape=(64,64,3),activation=\"relu\"))"
   ]
  },
  {
   "cell_type": "code",
   "execution_count": 4,
   "metadata": {},
   "outputs": [
    {
     "name": "stdout",
     "output_type": "stream",
     "text": [
      "WARNING:tensorflow:From C:\\Users\\vyshnavi\\Anaconda3\\lib\\site-packages\\keras\\backend\\tensorflow_backend.py:4070: The name tf.nn.max_pool is deprecated. Please use tf.nn.max_pool2d instead.\n",
      "\n"
     ]
    }
   ],
   "source": [
    "#Add Pooling Layer\n",
    "model.add(MaxPooling2D(pool_size = (2, 2)))"
   ]
  },
  {
   "cell_type": "code",
   "execution_count": 5,
   "metadata": {},
   "outputs": [],
   "source": [
    "#Add Flattening Layer\n",
    "model.add(Flatten())"
   ]
  },
  {
   "cell_type": "code",
   "execution_count": 6,
   "metadata": {},
   "outputs": [
    {
     "name": "stderr",
     "output_type": "stream",
     "text": [
      "C:\\Users\\vyshnavi\\Anaconda3\\lib\\site-packages\\ipykernel_launcher.py:2: UserWarning: Update your `Dense` call to the Keras 2 API: `Dense(20, activation=\"relu\", kernel_initializer=\"uniform\")`\n",
      "  \n"
     ]
    }
   ],
   "source": [
    "#Add Hidden Layer\n",
    "model.add(Dense(20,init=\"uniform\",activation=\"relu\"))"
   ]
  },
  {
   "cell_type": "code",
   "execution_count": 7,
   "metadata": {},
   "outputs": [
    {
     "name": "stderr",
     "output_type": "stream",
     "text": [
      "C:\\Users\\vyshnavi\\Anaconda3\\lib\\site-packages\\ipykernel_launcher.py:2: UserWarning: Update your `Dense` call to the Keras 2 API: `Dense(5, activation=\"softmax\", kernel_initializer=\"uniform\")`\n",
      "  \n"
     ]
    }
   ],
   "source": [
    "#Add Output layer\n",
    "model.add(Dense(5,init=\"uniform\",activation=\"softmax\"))"
   ]
  },
  {
   "cell_type": "code",
   "execution_count": 8,
   "metadata": {},
   "outputs": [],
   "source": [
    "#Compile the model\n",
    "model.compile(loss=\"binary_crossentropy\",optimizer=\"adam\",metrics=[\"accuracy\"])"
   ]
  },
  {
   "cell_type": "code",
   "execution_count": 9,
   "metadata": {},
   "outputs": [],
   "source": [
    "from keras.preprocessing.image import ImageDataGenerator\n",
    "\n",
    "train_datagen = ImageDataGenerator(rescale = 1./255,\n",
    "                                   shear_range = 0.2,\n",
    "                                   zoom_range = 0.2,\n",
    "                                   horizontal_flip = True)\n",
    "\n",
    "test_datagen = ImageDataGenerator(rescale = 1./255)"
   ]
  },
  {
   "cell_type": "code",
   "execution_count": 10,
   "metadata": {},
   "outputs": [
    {
     "name": "stdout",
     "output_type": "stream",
     "text": [
      "Found 153 images belonging to 5 classes.\n",
      "Found 683 images belonging to 5 classes.\n"
     ]
    }
   ],
   "source": [
    "x_test = test_datagen.flow_from_directory('C:/Users/vyshnavi/Desktop/Intracranial_project/data sets/project_testset',\n",
    "                                                 target_size = (64, 64),\n",
    "                                                 batch_size = 1,\n",
    "                                                     class_mode = 'categorical')\n",
    "x_train = train_datagen.flow_from_directory('C:/Users/vyshnavi/Desktop/Intracranial_project/data sets/project_trainset',\n",
    "                                            target_size = (64, 64),\n",
    "                                            batch_size = 2,\n",
    "                                            class_mode = 'categorical')\n",
    "\n"
   ]
  },
  {
   "cell_type": "code",
   "execution_count": 11,
   "metadata": {},
   "outputs": [
    {
     "name": "stdout",
     "output_type": "stream",
     "text": [
      "{'epidural hemorrhage': 0, 'intraparenchymal hemorrhage': 1, 'intraventricular hemorrhage': 2, 'subarchmoid hemorrhage': 3, 'subdural hemorrhage': 4}\n"
     ]
    }
   ],
   "source": [
    "print(x_train.class_indices)"
   ]
  },
  {
   "cell_type": "code",
   "execution_count": 12,
   "metadata": {},
   "outputs": [
    {
     "name": "stdout",
     "output_type": "stream",
     "text": [
      "WARNING:tensorflow:From C:\\Users\\vyshnavi\\Anaconda3\\lib\\site-packages\\tensorflow\\python\\ops\\math_grad.py:1250: add_dispatch_support.<locals>.wrapper (from tensorflow.python.ops.array_ops) is deprecated and will be removed in a future version.\n",
      "Instructions for updating:\n",
      "Use tf.where in 2.0, which has the same broadcast rule as np.where\n",
      "WARNING:tensorflow:From C:\\Users\\vyshnavi\\Anaconda3\\lib\\site-packages\\keras\\backend\\tensorflow_backend.py:422: The name tf.global_variables is deprecated. Please use tf.compat.v1.global_variables instead.\n",
      "\n",
      "Epoch 1/50\n",
      "341/341 [==============================] - 19s 56ms/step - loss: 0.4976 - accuracy: 0.8000 - val_loss: 0.4889 - val_accuracy: 0.8000\n",
      "Epoch 2/50\n",
      "341/341 [==============================] - 7s 19ms/step - loss: 0.4953 - accuracy: 0.8000 - val_loss: 0.6961 - val_accuracy: 0.8000\n",
      "Epoch 3/50\n",
      "341/341 [==============================] - 7s 20ms/step - loss: 0.4862 - accuracy: 0.7997 - val_loss: 0.2759 - val_accuracy: 0.7974\n",
      "Epoch 4/50\n",
      "341/341 [==============================] - 7s 20ms/step - loss: 0.4858 - accuracy: 0.8006 - val_loss: 0.5188 - val_accuracy: 0.8026\n",
      "Epoch 5/50\n",
      "341/341 [==============================] - 7s 22ms/step - loss: 0.4783 - accuracy: 0.8032 - val_loss: 0.4748 - val_accuracy: 0.8000\n",
      "Epoch 6/50\n",
      "341/341 [==============================] - 7s 21ms/step - loss: 0.4699 - accuracy: 0.8026 - val_loss: 0.3117 - val_accuracy: 0.7961\n",
      "Epoch 7/50\n",
      "341/341 [==============================] - 8s 24ms/step - loss: 0.4637 - accuracy: 0.8047 - val_loss: 0.4657 - val_accuracy: 0.7948\n",
      "Epoch 8/50\n",
      "341/341 [==============================] - 7s 22ms/step - loss: 0.4555 - accuracy: 0.8032 - val_loss: 0.5372 - val_accuracy: 0.7961\n",
      "Epoch 9/50\n",
      "341/341 [==============================] - 8s 25ms/step - loss: 0.4497 - accuracy: 0.8076 - val_loss: 0.7646 - val_accuracy: 0.7974ccuracy: \n",
      "Epoch 10/50\n",
      "341/341 [==============================] - 8s 24ms/step - loss: 0.4336 - accuracy: 0.8126 - val_loss: 0.4680 - val_accuracy: 0.7948\n",
      "Epoch 11/50\n",
      "341/341 [==============================] - 8s 23ms/step - loss: 0.4387 - accuracy: 0.8135 - val_loss: 0.8106 - val_accuracy: 0.7817\n",
      "Epoch 12/50\n",
      "341/341 [==============================] - 7s 20ms/step - loss: 0.4277 - accuracy: 0.8153 - val_loss: 0.4609 - val_accuracy: 0.7856\n",
      "Epoch 13/50\n",
      "341/341 [==============================] - 7s 20ms/step - loss: 0.4153 - accuracy: 0.8182 - val_loss: 0.3382 - val_accuracy: 0.8013\n",
      "Epoch 14/50\n",
      "341/341 [==============================] - 7s 20ms/step - loss: 0.4058 - accuracy: 0.8209 - val_loss: 0.5286 - val_accuracy: 0.7987\n",
      "Epoch 15/50\n",
      "341/341 [==============================] - 8s 24ms/step - loss: 0.3969 - accuracy: 0.8332 - val_loss: 0.4297 - val_accuracy: 0.7895\n",
      "Epoch 16/50\n",
      "341/341 [==============================] - 9s 25ms/step - loss: 0.3927 - accuracy: 0.8320 - val_loss: 0.2744 - val_accuracy: 0.7987\n",
      "Epoch 17/50\n",
      "341/341 [==============================] - 9s 26ms/step - loss: 0.3853 - accuracy: 0.8338 - val_loss: 0.9416 - val_accuracy: 0.7895\n",
      "Epoch 18/50\n",
      "341/341 [==============================] - 9s 26ms/step - loss: 0.3864 - accuracy: 0.8314 - val_loss: 0.7857 - val_accuracy: 0.7739\n",
      "Epoch 19/50\n",
      "341/341 [==============================] - 9s 26ms/step - loss: 0.3773 - accuracy: 0.8385 - val_loss: 0.1133 - val_accuracy: 0.7778\n",
      "Epoch 20/50\n",
      "341/341 [==============================] - 8s 23ms/step - loss: 0.3757 - accuracy: 0.8399 - val_loss: 0.4835 - val_accuracy: 0.7712\n",
      "Epoch 21/50\n",
      "341/341 [==============================] - 7s 19ms/step - loss: 0.3671 - accuracy: 0.8435 - val_loss: 0.3708 - val_accuracy: 0.7817\n",
      "Epoch 22/50\n",
      "341/341 [==============================] - 7s 20ms/step - loss: 0.3743 - accuracy: 0.8382 - val_loss: 0.7426 - val_accuracy: 0.7765\n",
      "Epoch 23/50\n",
      "341/341 [==============================] - 7s 21ms/step - loss: 0.3525 - accuracy: 0.8443 - val_loss: 0.3336 - val_accuracy: 0.7856\n",
      "Epoch 24/50\n",
      "341/341 [==============================] - 7s 21ms/step - loss: 0.3548 - accuracy: 0.8499 - val_loss: 0.3114 - val_accuracy: 0.7725\n",
      "Epoch 25/50\n",
      "341/341 [==============================] - 7s 21ms/step - loss: 0.3513 - accuracy: 0.8529 - val_loss: 0.6415 - val_accuracy: 0.7791\n",
      "Epoch 26/50\n",
      "341/341 [==============================] - 8s 23ms/step - loss: 0.3354 - accuracy: 0.8545 - val_loss: 0.4605 - val_accuracy: 0.7725\n",
      "Epoch 27/50\n",
      "341/341 [==============================] - 7s 21ms/step - loss: 0.3411 - accuracy: 0.8579 - val_loss: 0.7181 - val_accuracy: 0.7595\n",
      "Epoch 28/50\n",
      "341/341 [==============================] - 6s 19ms/step - loss: 0.3275 - accuracy: 0.8602 - val_loss: 0.6810 - val_accuracy: 0.7752\n",
      "Epoch 29/50\n",
      "341/341 [==============================] - 7s 21ms/step - loss: 0.3354 - accuracy: 0.8590 - val_loss: 0.4094 - val_accuracy: 0.7634\n",
      "Epoch 30/50\n",
      "341/341 [==============================] - 7s 21ms/step - loss: 0.3242 - accuracy: 0.8579 - val_loss: 0.2452 - val_accuracy: 0.7699\n",
      "Epoch 31/50\n",
      "341/341 [==============================] - 7s 22ms/step - loss: 0.3242 - accuracy: 0.8590 - val_loss: 0.4624 - val_accuracy: 0.7869\n",
      "Epoch 32/50\n",
      "341/341 [==============================] - 8s 23ms/step - loss: 0.3254 - accuracy: 0.8584 - val_loss: 1.1491 - val_accuracy: 0.7843\n",
      "Epoch 33/50\n",
      "341/341 [==============================] - 7s 22ms/step - loss: 0.3167 - accuracy: 0.8587 - val_loss: 2.0181 - val_accuracy: 0.7673\n",
      "Epoch 34/50\n",
      "341/341 [==============================] - 7s 20ms/step - loss: 0.3216 - accuracy: 0.8596 - val_loss: 0.0870 - val_accuracy: 0.7752\n",
      "Epoch 35/50\n",
      "341/341 [==============================] - 7s 21ms/step - loss: 0.3148 - accuracy: 0.8667 - val_loss: 0.7462 - val_accuracy: 0.7791\n",
      "Epoch 36/50\n",
      "341/341 [==============================] - 8s 22ms/step - loss: 0.3093 - accuracy: 0.8677 - val_loss: 0.0016 - val_accuracy: 0.7699\n",
      "Epoch 37/50\n",
      "341/341 [==============================] - 7s 20ms/step - loss: 0.2807 - accuracy: 0.8809 - val_loss: 1.0500 - val_accuracy: 0.7673\n",
      "Epoch 38/50\n",
      "341/341 [==============================] - 8s 23ms/step - loss: 0.3184 - accuracy: 0.8696 - val_loss: 0.3538 - val_accuracy: 0.7699\n",
      "Epoch 39/50\n",
      "341/341 [==============================] - 7s 21ms/step - loss: 0.2860 - accuracy: 0.8781 - val_loss: 0.0219 - val_accuracy: 0.7673\n",
      "Epoch 40/50\n",
      "341/341 [==============================] - 11s 32ms/step - loss: 0.2921 - accuracy: 0.8764 - val_loss: 0.6662 - val_accuracy: 0.7935\n",
      "Epoch 41/50\n",
      "341/341 [==============================] - 15s 44ms/step - loss: 0.2852 - accuracy: 0.8772 - val_loss: 0.2704 - val_accuracy: 0.7856\n",
      "Epoch 42/50\n",
      "341/341 [==============================] - 14s 42ms/step - loss: 0.2718 - accuracy: 0.8804 - val_loss: 0.6740 - val_accuracy: 0.7895\n",
      "Epoch 43/50\n",
      "341/341 [==============================] - 15s 43ms/step - loss: 0.2855 - accuracy: 0.8768 - val_loss: 0.0024 - val_accuracy: 0.7699\n",
      "Epoch 44/50\n",
      "341/341 [==============================] - 15s 45ms/step - loss: 0.2817 - accuracy: 0.8840 - val_loss: 0.0355 - val_accuracy: 0.7791\n",
      "Epoch 45/50\n",
      "341/341 [==============================] - 13s 39ms/step - loss: 0.2760 - accuracy: 0.8834 - val_loss: 0.9758 - val_accuracy: 0.7582\n",
      "Epoch 46/50\n",
      "341/341 [==============================] - 13s 39ms/step - loss: 0.2713 - accuracy: 0.8798 - val_loss: 0.6477 - val_accuracy: 0.7569\n",
      "Epoch 47/50\n",
      "341/341 [==============================] - 13s 39ms/step - loss: 0.2702 - accuracy: 0.8859 - val_loss: 0.0485 - val_accuracy: 0.7490\n",
      "Epoch 48/50\n",
      "341/341 [==============================] - 15s 43ms/step - loss: 0.2615 - accuracy: 0.8833 - val_loss: 0.6184 - val_accuracy: 0.7739\n",
      "Epoch 49/50\n",
      "341/341 [==============================] - 16s 46ms/step - loss: 0.2708 - accuracy: 0.8909 - val_loss: 1.0091 - val_accuracy: 0.7569\n",
      "Epoch 50/50\n",
      "341/341 [==============================] - 15s 43ms/step - loss: 0.2631 - accuracy: 0.8858 - val_loss: 0.2026 - val_accuracy: 0.7673\n"
     ]
    },
    {
     "data": {
      "text/plain": [
       "<keras.callbacks.callbacks.History at 0x222e91ae780>"
      ]
     },
     "execution_count": 12,
     "metadata": {},
     "output_type": "execute_result"
    }
   ],
   "source": [
    "model.fit_generator(x_train,\n",
    "                         steps_per_epoch = 683//2,\n",
    "                         epochs = 50,\n",
    "                         validation_data = x_test,\n",
    "                         validation_steps = 153//1)"
   ]
  },
  {
   "cell_type": "code",
   "execution_count": 13,
   "metadata": {},
   "outputs": [],
   "source": [
    "model.save(\"mymodel.h5\")"
   ]
  },
  {
   "cell_type": "markdown",
   "metadata": {},
   "source": [
    "# Prediction "
   ]
  },
  {
   "cell_type": "code",
   "execution_count": 15,
   "metadata": {},
   "outputs": [],
   "source": [
    "from keras.models import load_model\n",
    "import numpy as np\n",
    "import cv2"
   ]
  },
  {
   "cell_type": "code",
   "execution_count": 17,
   "metadata": {},
   "outputs": [],
   "source": [
    "\n",
    " model = load_model('mymodel.h5')\n",
    "# model.compile(loss='categorical_crossentropy',\n",
    "#                       optimizer='adam',\n",
    "#                       metrics=['accuracy'])\n",
    "\n",
    "from skimage.transform import resize\n",
    "\n",
    "def detect(frame):\n",
    "    try:\n",
    "        img = resize(frame,(64,64))\n",
    "        img = np.expand_dims(img,axis=0)\n",
    "        if(np.max(img)>1):\n",
    "            img = img/255.0\n",
    "        prediction = model.predict(img)\n",
    "        print(prediction)\n",
    "        prediction = model.predict_classes(img)\n",
    "        print(prediction)\n",
    "    except AttributeError:\n",
    "        print(\"shape not found\")\n"
   ]
  },
  {
   "cell_type": "code",
   "execution_count": 23,
   "metadata": {},
   "outputs": [
    {
     "name": "stdout",
     "output_type": "stream",
     "text": [
      "[[8.2071072e-01 1.2928767e-04 2.0800189e-03 4.0613129e-03 1.7301880e-01]]\n",
      "[0]\n"
     ]
    }
   ],
   "source": [
    "frame=cv2.imread(\"C:\\\\Users\\\\vyshnavi\\\\Desktop\\\\Intracranial_project\\\\data sets\\\\project_testset\\\\predict_epidural.jpg\")\n",
    "data = detect(frame)"
   ]
  },
  {
   "cell_type": "code",
   "execution_count": null,
   "metadata": {},
   "outputs": [],
   "source": []
  }
 ],
 "metadata": {
  "kernelspec": {
   "display_name": "Python 3",
   "language": "python",
   "name": "python3"
  },
  "language_info": {
   "codemirror_mode": {
    "name": "ipython",
    "version": 3
   },
   "file_extension": ".py",
   "mimetype": "text/x-python",
   "name": "python",
   "nbconvert_exporter": "python",
   "pygments_lexer": "ipython3",
   "version": "3.7.3"
  }
 },
 "nbformat": 4,
 "nbformat_minor": 2
}
