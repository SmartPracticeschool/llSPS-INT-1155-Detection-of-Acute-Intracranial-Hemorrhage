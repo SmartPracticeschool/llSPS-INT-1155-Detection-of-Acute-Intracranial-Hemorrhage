{
 "cells": [
  {
   "cell_type": "markdown",
   "metadata": {},
   "source": [
    "# Import ImageDataGenerator Library"
   ]
  },
  {
   "cell_type": "code",
   "execution_count": 13,
   "metadata": {},
   "outputs": [],
   "source": [
    "from keras.preprocessing.image import ImageDataGenerator"
   ]
  },
  {
   "cell_type": "markdown",
   "metadata": {},
   "source": [
    "# Configuring ImageDataGenerator Class"
   ]
  },
  {
   "cell_type": "code",
   "execution_count": 14,
   "metadata": {},
   "outputs": [],
   "source": [
    "train_datagen = ImageDataGenerator(rescale = 1./255,\n",
    "                                   shear_range = 0.2,\n",
    "                                   zoom_range = 0.2,\n",
    "                                   horizontal_flip = True)\n",
    "\n",
    "test_datagen = ImageDataGenerator(rescale = 1./255)"
   ]
  },
  {
   "cell_type": "markdown",
   "metadata": {},
   "source": [
    "# Applying ImageDataGenerator functionality to train and testsets"
   ]
  },
  {
   "cell_type": "code",
   "execution_count": 15,
   "metadata": {},
   "outputs": [
    {
     "name": "stdout",
     "output_type": "stream",
     "text": [
      "Found 153 images belonging to 5 classes.\n",
      "Found 683 images belonging to 5 classes.\n"
     ]
    }
   ],
   "source": [
    "x_test = test_datagen.flow_from_directory('C:/Users/vyshnavi/Desktop/Intracranial_project/data sets/project_testset',\n",
    "                                                 target_size = (64, 64),\n",
    "                                                 batch_size = 1,\n",
    "                                                     class_mode = 'categorical')\n",
    "x_train = train_datagen.flow_from_directory('C:/Users/vyshnavi/Desktop/Intracranial_project/data sets/project_trainset',\n",
    "                                            target_size = (64, 64),\n",
    "                                            batch_size = 2,\n",
    "                                            class_mode = 'categorical')\n",
    "\n"
   ]
  },
  {
   "cell_type": "markdown",
   "metadata": {},
   "source": [
    "# Importing Libraries"
   ]
  },
  {
   "cell_type": "code",
   "execution_count": 16,
   "metadata": {},
   "outputs": [],
   "source": [
    "from keras.models import Sequential\n",
    "from keras.layers import Dense\n",
    "from keras.layers import Convolution2D\n",
    "from keras.layers import MaxPooling2D\n",
    "from keras.layers import Flatten"
   ]
  },
  {
   "cell_type": "markdown",
   "metadata": {},
   "source": [
    "# Initialize model"
   ]
  },
  {
   "cell_type": "code",
   "execution_count": 17,
   "metadata": {},
   "outputs": [],
   "source": [
    "model=Sequential()"
   ]
  },
  {
   "cell_type": "markdown",
   "metadata": {},
   "source": [
    "# Add Convolution layer"
   ]
  },
  {
   "cell_type": "code",
   "execution_count": 18,
   "metadata": {},
   "outputs": [],
   "source": [
    "model.add(Convolution2D(32,(3,3),input_shape=(64,64,3),activation=\"relu\"))"
   ]
  },
  {
   "cell_type": "markdown",
   "metadata": {},
   "source": [
    "# Add pooling layer"
   ]
  },
  {
   "cell_type": "code",
   "execution_count": 19,
   "metadata": {},
   "outputs": [],
   "source": [
    "model.add(MaxPooling2D(pool_size = (2, 2)))"
   ]
  },
  {
   "cell_type": "markdown",
   "metadata": {},
   "source": [
    "# Add Flatten Layer"
   ]
  },
  {
   "cell_type": "code",
   "execution_count": 20,
   "metadata": {},
   "outputs": [],
   "source": [
    "model.add(Flatten())"
   ]
  },
  {
   "cell_type": "markdown",
   "metadata": {},
   "source": [
    "# Add Dense layer"
   ]
  },
  {
   "cell_type": "code",
   "execution_count": 21,
   "metadata": {},
   "outputs": [
    {
     "name": "stderr",
     "output_type": "stream",
     "text": [
      "C:\\Users\\vyshnavi\\Anaconda3\\lib\\site-packages\\ipykernel_launcher.py:1: UserWarning: Update your `Dense` call to the Keras 2 API: `Dense(20, activation=\"relu\", kernel_initializer=\"uniform\")`\n",
      "  \"\"\"Entry point for launching an IPython kernel.\n"
     ]
    }
   ],
   "source": [
    "model.add(Dense(20,init=\"uniform\",activation=\"relu\"))"
   ]
  },
  {
   "cell_type": "code",
   "execution_count": 25,
   "metadata": {},
   "outputs": [
    {
     "name": "stderr",
     "output_type": "stream",
     "text": [
      "C:\\Users\\vyshnavi\\Anaconda3\\lib\\site-packages\\ipykernel_launcher.py:1: UserWarning: Update your `Dense` call to the Keras 2 API: `Dense(5, activation=\"softmax\", kernel_initializer=\"uniform\")`\n",
      "  \"\"\"Entry point for launching an IPython kernel.\n"
     ]
    }
   ],
   "source": [
    "model.add(Dense(5,init=\"uniform\",activation=\"softmax\"))"
   ]
  },
  {
   "cell_type": "markdown",
   "metadata": {},
   "source": [
    "# Compile the model"
   ]
  },
  {
   "cell_type": "code",
   "execution_count": 26,
   "metadata": {},
   "outputs": [],
   "source": [
    "model.compile(loss=\"binary_crossentropy\",optimizer=\"adam\",metrics=[\"accuracy\"])"
   ]
  },
  {
   "cell_type": "code",
   "execution_count": 27,
   "metadata": {},
   "outputs": [
    {
     "name": "stdout",
     "output_type": "stream",
     "text": [
      "{'epidural hemorrhage': 0, 'intraparenchymal hemorrhage': 1, 'intraventricular hemorrhage': 2, 'subarchmoid hemorrhage': 3, 'subdural hemorrhage': 4}\n"
     ]
    }
   ],
   "source": [
    "print(x_train.class_indices)"
   ]
  },
  {
   "cell_type": "markdown",
   "metadata": {},
   "source": [
    "# Train the model"
   ]
  },
  {
   "cell_type": "code",
   "execution_count": 28,
   "metadata": {},
   "outputs": [
    {
     "name": "stdout",
     "output_type": "stream",
     "text": [
      "Epoch 1/50\n",
      "341/341 [==============================] - 17s 51ms/step - loss: 0.5005 - accuracy: 0.8000 - val_loss: 0.5281 - val_accuracy: 0.8000 0.500\n",
      "Epoch 2/50\n",
      "341/341 [==============================] - 15s 43ms/step - loss: 0.4912 - accuracy: 0.8006 - val_loss: 0.6504 - val_accuracy: 0.8026\n",
      "Epoch 3/50\n",
      "341/341 [==============================] - 15s 44ms/step - loss: 0.4846 - accuracy: 0.8029 - val_loss: 0.5454 - val_accuracy: 0.8065\n",
      "Epoch 4/50\n",
      "341/341 [==============================] - 15s 43ms/step - loss: 0.4779 - accuracy: 0.8015 - val_loss: 0.4836 - val_accuracy: 0.8065\n",
      "Epoch 5/50\n",
      "341/341 [==============================] - 14s 42ms/step - loss: 0.4674 - accuracy: 0.8047 - val_loss: 0.5669 - val_accuracy: 0.8078\n",
      "Epoch 6/50\n",
      "341/341 [==============================] - 13s 38ms/step - loss: 0.4663 - accuracy: 0.8062 - val_loss: 0.2328 - val_accuracy: 0.8052\n",
      "Epoch 7/50\n",
      "341/341 [==============================] - 13s 39ms/step - loss: 0.4540 - accuracy: 0.8070 - val_loss: 0.4967 - val_accuracy: 0.8000\n",
      "Epoch 8/50\n",
      "341/341 [==============================] - 14s 42ms/step - loss: 0.4467 - accuracy: 0.8079 - val_loss: 0.4974 - val_accuracy: 0.8026\n",
      "Epoch 9/50\n",
      "341/341 [==============================] - 15s 44ms/step - loss: 0.4332 - accuracy: 0.8153 - val_loss: 0.7173 - val_accuracy: 0.7974\n",
      "Epoch 10/50\n",
      "341/341 [==============================] - 16s 47ms/step - loss: 0.4206 - accuracy: 0.8147 - val_loss: 0.8832 - val_accuracy: 0.7909\n",
      "Epoch 11/50\n",
      "341/341 [==============================] - 10s 29ms/step - loss: 0.4168 - accuracy: 0.8203 - val_loss: 0.0083 - val_accuracy: 0.7752\n",
      "Epoch 12/50\n",
      "341/341 [==============================] - 7s 22ms/step - loss: 0.3984 - accuracy: 0.8282 - val_loss: 0.2564 - val_accuracy: 0.7830\n",
      "Epoch 13/50\n",
      "341/341 [==============================] - 7s 22ms/step - loss: 0.3932 - accuracy: 0.8291 - val_loss: 0.4979 - val_accuracy: 0.7791\n",
      "Epoch 14/50\n",
      "341/341 [==============================] - 7s 22ms/step - loss: 0.3807 - accuracy: 0.8347 - val_loss: 2.1027 - val_accuracy: 0.7804\n",
      "Epoch 15/50\n",
      "341/341 [==============================] - 8s 22ms/step - loss: 0.3804 - accuracy: 0.8382 - val_loss: 0.0582 - val_accuracy: 0.7673\n",
      "Epoch 16/50\n",
      "341/341 [==============================] - 8s 24ms/step - loss: 0.3721 - accuracy: 0.8423 - val_loss: 0.4759 - val_accuracy: 0.7686\n",
      "Epoch 17/50\n",
      "341/341 [==============================] - 8s 23ms/step - loss: 0.3568 - accuracy: 0.8464 - val_loss: 0.5459 - val_accuracy: 0.7739\n",
      "Epoch 18/50\n",
      "341/341 [==============================] - 8s 24ms/step - loss: 0.3413 - accuracy: 0.8552 - val_loss: 0.8107 - val_accuracy: 0.7817\n",
      "Epoch 19/50\n",
      "341/341 [==============================] - 9s 26ms/step - loss: 0.3456 - accuracy: 0.8537 - val_loss: 0.3337 - val_accuracy: 0.7699\n",
      "Epoch 20/50\n",
      "341/341 [==============================] - 8s 23ms/step - loss: 0.3379 - accuracy: 0.8543 - val_loss: 0.6036 - val_accuracy: 0.7739\n",
      "Epoch 21/50\n",
      "341/341 [==============================] - 8s 23ms/step - loss: 0.3156 - accuracy: 0.8687 - val_loss: 0.4119 - val_accuracy: 0.7712\n",
      "Epoch 22/50\n",
      "341/341 [==============================] - 8s 23ms/step - loss: 0.3194 - accuracy: 0.8637 - val_loss: 0.3726 - val_accuracy: 0.7856\n",
      "Epoch 23/50\n",
      "341/341 [==============================] - 8s 23ms/step - loss: 0.3138 - accuracy: 0.8720 - val_loss: 0.0684 - val_accuracy: 0.7569\n",
      "Epoch 24/50\n",
      "341/341 [==============================] - 8s 23ms/step - loss: 0.3068 - accuracy: 0.8695 - val_loss: 0.5473 - val_accuracy: 0.7647\n",
      "Epoch 25/50\n",
      "341/341 [==============================] - 8s 23ms/step - loss: 0.2957 - accuracy: 0.8799 - val_loss: 1.1928 - val_accuracy: 0.7542\n",
      "Epoch 26/50\n",
      "341/341 [==============================] - 9s 27ms/step - loss: 0.2862 - accuracy: 0.8812 - val_loss: 1.8113 - val_accuracy: 0.7765\n",
      "Epoch 27/50\n",
      "341/341 [==============================] - 8s 24ms/step - loss: 0.2774 - accuracy: 0.8858 - val_loss: 0.2653 - val_accuracy: 0.7830\n",
      "Epoch 28/50\n",
      "341/341 [==============================] - 8s 23ms/step - loss: 0.2945 - accuracy: 0.8761 - val_loss: 0.3241 - val_accuracy: 0.7778\n",
      "Epoch 29/50\n",
      "341/341 [==============================] - 8s 23ms/step - loss: 0.2878 - accuracy: 0.8790 - val_loss: 0.6745 - val_accuracy: 0.7869\n",
      "Epoch 30/50\n",
      "341/341 [==============================] - 8s 22ms/step - loss: 0.2618 - accuracy: 0.8925 - val_loss: 0.6924 - val_accuracy: 0.7791\n",
      "Epoch 31/50\n",
      "341/341 [==============================] - 8s 23ms/step - loss: 0.2567 - accuracy: 0.8913 - val_loss: 1.0704 - val_accuracy: 0.7739\n",
      "Epoch 32/50\n",
      "341/341 [==============================] - 8s 23ms/step - loss: 0.2485 - accuracy: 0.8972 - val_loss: 0.1005 - val_accuracy: 0.7673\n",
      "Epoch 33/50\n",
      "341/341 [==============================] - 8s 24ms/step - loss: 0.2470 - accuracy: 0.8984 - val_loss: 0.0712 - val_accuracy: 0.7752\n",
      "Epoch 34/50\n",
      "341/341 [==============================] - 8s 24ms/step - loss: 0.2273 - accuracy: 0.9093 - val_loss: 0.8007 - val_accuracy: 0.7752\n",
      "Epoch 35/50\n",
      "341/341 [==============================] - 8s 23ms/step - loss: 0.2413 - accuracy: 0.8957 - val_loss: 0.4441 - val_accuracy: 0.7490\n",
      "Epoch 36/50\n",
      "341/341 [==============================] - 9s 26ms/step - loss: 0.2530 - accuracy: 0.9001 - val_loss: 0.0568 - val_accuracy: 0.7647\n",
      "Epoch 37/50\n",
      "341/341 [==============================] - 8s 24ms/step - loss: 0.2247 - accuracy: 0.9116 - val_loss: 0.5701 - val_accuracy: 0.7804\n",
      "Epoch 38/50\n",
      "341/341 [==============================] - 9s 27ms/step - loss: 0.2317 - accuracy: 0.9069 - val_loss: 0.2044 - val_accuracy: 0.7739\n",
      "Epoch 39/50\n",
      "341/341 [==============================] - 8s 25ms/step - loss: 0.2323 - accuracy: 0.8993 - val_loss: 0.0000e+00 - val_accuracy: 0.7699\n",
      "Epoch 40/50\n",
      "341/341 [==============================] - 9s 25ms/step - loss: 0.2246 - accuracy: 0.9040 - val_loss: 1.1483 - val_accuracy: 0.7712\n",
      "Epoch 41/50\n",
      "341/341 [==============================] - 8s 25ms/step - loss: 0.2261 - accuracy: 0.9063 - val_loss: 0.0123 - val_accuracy: 0.7595\n",
      "Epoch 42/50\n",
      "341/341 [==============================] - 9s 25ms/step - loss: 0.2087 - accuracy: 0.9145 - val_loss: 0.0064 - val_accuracy: 0.7752\n",
      "Epoch 43/50\n",
      "341/341 [==============================] - 8s 25ms/step - loss: 0.1944 - accuracy: 0.9239 - val_loss: 2.7334 - val_accuracy: 0.7477\n",
      "Epoch 44/50\n",
      "341/341 [==============================] - 8s 24ms/step - loss: 0.1973 - accuracy: 0.9228 - val_loss: 0.4009 - val_accuracy: 0.7516\n",
      "Epoch 45/50\n",
      "341/341 [==============================] - 8s 24ms/step - loss: 0.1918 - accuracy: 0.9192 - val_loss: 0.3631 - val_accuracy: 0.7673\n",
      "Epoch 46/50\n",
      "341/341 [==============================] - 8s 24ms/step - loss: 0.2020 - accuracy: 0.9236 - val_loss: 4.2412 - val_accuracy: 0.7739\n",
      "Epoch 47/50\n",
      "341/341 [==============================] - 8s 25ms/step - loss: 0.1937 - accuracy: 0.9272 - val_loss: 3.1170 - val_accuracy: 0.7765\n",
      "Epoch 48/50\n",
      "341/341 [==============================] - 9s 27ms/step - loss: 0.1894 - accuracy: 0.9235 - val_loss: 0.4598 - val_accuracy: 0.7791\n",
      "Epoch 49/50\n",
      "341/341 [==============================] - 9s 26ms/step - loss: 0.1743 - accuracy: 0.9306 - val_loss: 0.0953 - val_accuracy: 0.7582\n",
      "Epoch 50/50\n",
      "341/341 [==============================] - 8s 24ms/step - loss: 0.1783 - accuracy: 0.9217 - val_loss: 0.3336 - val_accuracy: 0.7791\n"
     ]
    },
    {
     "data": {
      "text/plain": [
       "<keras.callbacks.callbacks.History at 0x17ead44e630>"
      ]
     },
     "execution_count": 28,
     "metadata": {},
     "output_type": "execute_result"
    }
   ],
   "source": [
    "model.fit_generator(x_train,\n",
    "                         steps_per_epoch = 683//2,\n",
    "                         epochs = 50,\n",
    "                         validation_data = x_test,\n",
    "                         validation_steps = 153//1)"
   ]
  },
  {
   "cell_type": "markdown",
   "metadata": {},
   "source": [
    "# Save the model"
   ]
  },
  {
   "cell_type": "code",
   "execution_count": 29,
   "metadata": {},
   "outputs": [],
   "source": [
    "model.save(\"mymodel.h5\")"
   ]
  },
  {
   "cell_type": "code",
   "execution_count": null,
   "metadata": {},
   "outputs": [],
   "source": []
  }
 ],
 "metadata": {
  "kernelspec": {
   "display_name": "Python 3",
   "language": "python",
   "name": "python3"
  },
  "language_info": {
   "codemirror_mode": {
    "name": "ipython",
    "version": 3
   },
   "file_extension": ".py",
   "mimetype": "text/x-python",
   "name": "python",
   "nbconvert_exporter": "python",
   "pygments_lexer": "ipython3",
   "version": "3.7.3"
  }
 },
 "nbformat": 4,
 "nbformat_minor": 2
}
